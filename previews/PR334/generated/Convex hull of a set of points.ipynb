{
 "cells": [
  {
   "cell_type": "markdown",
   "source": [
    "# Convex hull of a set of points"
   ],
   "metadata": {}
  },
  {
   "cell_type": "markdown",
   "source": [
    "## Convex hull in a plane"
   ],
   "metadata": {}
  },
  {
   "cell_type": "markdown",
   "source": [
    "This examples shows how to find the convex hull in the context of a plane.\n",
    "First we have to create an object representing the vertices. We have multiple ways of doing this"
   ],
   "metadata": {}
  },
  {
   "outputs": [
    {
     "output_type": "execute_result",
     "data": {
      "text/plain": "V-representation Polyhedra.PointsHull{Float64, Vector{Float64}, Int64}:\n4-element iterator of Vector{Float64}:\n [0.0, 0.0]\n [0.0, 1.0]\n [1.0, 0.0]\n [0.1, 0.1]"
     },
     "metadata": {},
     "execution_count": 1
    }
   ],
   "cell_type": "code",
   "source": [
    "using Polyhedra\n",
    "\n",
    "v = convexhull([0, 0], [0, 1], [1, 0], [0.1, 0.1]) # list of points\n",
    "v = vrep([[0, 0], [0, 1], [1, 0], [0.1, 0.1]]) # vector of points"
   ],
   "metadata": {},
   "execution_count": 1
  },
  {
   "cell_type": "markdown",
   "source": [
    "number of points × dimension matrix"
   ],
   "metadata": {}
  },
  {
   "outputs": [
    {
     "output_type": "execute_result",
     "data": {
      "text/plain": "V-representation MixedMatVRep{Float64, Matrix{Float64}}:\n4-element iterator of Vector{Float64}:\n [0.0, 0.0]\n [0.0, 1.0]\n [1.0, 0.0]\n [0.1, 0.1]"
     },
     "metadata": {},
     "execution_count": 2
    }
   ],
   "cell_type": "code",
   "source": [
    "x = [0,0,1,0.1]\n",
    "y = [0,1,0,0.1]\n",
    "v = vrep([x y])"
   ],
   "metadata": {},
   "execution_count": 2
  },
  {
   "cell_type": "markdown",
   "source": [
    "Then we can compute the hull of these points using the planar_hull function"
   ],
   "metadata": {}
  },
  {
   "outputs": [
    {
     "output_type": "execute_result",
     "data": {
      "text/plain": "V-representation Polyhedra.Hull{Float64, Vector{Float64}, Int64}:\n3-element iterator of Vector{Float64}:\n [0.0, 0.0]\n [0.0, 1.0]\n [1.0, 0.0]"
     },
     "metadata": {},
     "execution_count": 3
    }
   ],
   "cell_type": "code",
   "source": [
    "Polyhedra.planar_hull(v)"
   ],
   "metadata": {},
   "execution_count": 3
  },
  {
   "cell_type": "markdown",
   "source": [
    "## Convex hull in higher dimension"
   ],
   "metadata": {}
  },
  {
   "cell_type": "markdown",
   "source": [
    "In higher dimension, we can do it with a linear programming solver implementing the [MathOptInterface](https://github.com/jump-dev/MathOptInterface.jl), e.g.,"
   ],
   "metadata": {}
  },
  {
   "outputs": [
    {
     "output_type": "execute_result",
     "data": {
      "text/plain": "V-representation Polyhedra.Hull{Float64, Vector{Float64}, Int64}:\n3-element iterator of Vector{Float64}:\n [0.0, 0.0]\n [0.0, 1.0]\n [1.0, 0.0]"
     },
     "metadata": {},
     "execution_count": 4
    }
   ],
   "cell_type": "code",
   "source": [
    "import GLPK\n",
    "\n",
    "removevredundancy(v, GLPK.Optimizer)"
   ],
   "metadata": {},
   "execution_count": 4
  },
  {
   "cell_type": "markdown",
   "source": [
    "We can also use any Polyhedral library implementing the interface of this package. If we don't specify any library, it falls back to a default one implementing on this package which will use the `planar_hull` if the dimension is 2 (so it's equivalent to the first approach shown above):"
   ],
   "metadata": {}
  },
  {
   "outputs": [
    {
     "output_type": "execute_result",
     "data": {
      "text/plain": "Polyhedron DefaultPolyhedron{Float64, MixedMatHRep{Float64, Matrix{Float64}}, MixedMatVRep{Float64, Matrix{Float64}}}:\n3-element iterator of Vector{Float64}:\n [0.0, 0.0]\n [0.0, 1.0]\n [1.0, 0.0]"
     },
     "metadata": {},
     "execution_count": 5
    }
   ],
   "cell_type": "code",
   "source": [
    "p = polyhedron(v)\n",
    "removevredundancy!(p)\n",
    "p"
   ],
   "metadata": {},
   "execution_count": 5
  },
  {
   "cell_type": "markdown",
   "source": [
    "We can also specify a library. For instance, to use `CDDLib`, write `using CDDLib` and then `p = polyhedron(v, CDDLib.Library())`."
   ],
   "metadata": {}
  },
  {
   "cell_type": "markdown",
   "source": [
    "---\n",
    "\n",
    "*This notebook was generated using [Literate.jl](https://github.com/fredrikekre/Literate.jl).*"
   ],
   "metadata": {}
  }
 ],
 "nbformat_minor": 3,
 "metadata": {
  "language_info": {
   "file_extension": ".jl",
   "mimetype": "application/julia",
   "name": "julia",
   "version": "1.10.0"
  },
  "kernelspec": {
   "name": "julia-1.10",
   "display_name": "Julia 1.10.0",
   "language": "julia"
  }
 },
 "nbformat": 4
}
