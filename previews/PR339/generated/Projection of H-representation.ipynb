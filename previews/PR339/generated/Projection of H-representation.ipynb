{
 "cells": [
  {
   "cell_type": "markdown",
   "source": [
    "# Projection of H-representation"
   ],
   "metadata": {}
  },
  {
   "cell_type": "markdown",
   "source": [
    "This examples shows how to compute the projection of a H-representation.\n",
    "We use the [project1.ine example from cddlib](https://github.com/cddlib/cddlib/blob/master/examples/project1.ine)."
   ],
   "metadata": {}
  },
  {
   "outputs": [],
   "cell_type": "code",
   "source": [
    "using Polyhedra"
   ],
   "metadata": {},
   "execution_count": 1
  },
  {
   "cell_type": "markdown",
   "source": [
    "## Projection with default library"
   ],
   "metadata": {}
  },
  {
   "outputs": [
    {
     "output_type": "execute_result",
     "data": {
      "text/plain": "Polyhedron DefaultPolyhedron{Float64, Polyhedra.Intersection{Float64, Vector{Float64}, Int64}, Polyhedra.Hull{Float64, Vector{Float64}, Int64}}:\n20-element iterator of HalfSpace{Float64, Vector{Float64}}:\n HalfSpace([-0.0, -0.0, -0.0, -1.0, -0.0, -0.0], 1.0)\n HalfSpace([-0.0, -0.0, -0.0, -0.0, -1.0, -0.0], 1.0)\n HalfSpace([-0.0, -0.0, -0.0, -0.0, -0.0, -1.0], 1.0)\n HalfSpace([-0.0, -0.0, -0.0, 1.0, -0.0, -0.0], 1.0)\n HalfSpace([-0.0, -0.0, -0.0, -0.0, 1.0, -0.0], 1.0)\n HalfSpace([-0.0, -0.0, -0.0, -0.0, -0.0, 1.0], 1.0)\n HalfSpace([-1.0, -0.0, -0.0, 1.0, -0.0, -0.0], 1.0)\n HalfSpace([-0.0, -1.0, -0.0, -0.0, 1.0, -0.0], 1.0)\n HalfSpace([-0.0, -0.0, -1.0, -0.0, -0.0, 1.0], 1.0)\n HalfSpace([1.0, -0.0, -0.0, -1.0, -0.0, -0.0], 1.0)\n HalfSpace([-0.0, 1.0, -0.0, -0.0, -1.0, -0.0], 1.0)\n HalfSpace([-0.0, -0.0, 1.0, -0.0, -0.0, -1.0], 1.0)\n HalfSpace([-1.0, -1.0, -1.0, 1.0, 1.0, 1.0], 2.0)\n HalfSpace([1.0, -1.0, -1.0, -1.0, 1.0, 1.0], 2.0)\n HalfSpace([-1.0, 1.0, -1.0, 1.0, -1.0, 1.0], 2.0)\n HalfSpace([-1.0, -1.0, 1.0, 1.0, 1.0, -1.0], 2.0)\n HalfSpace([1.0, 1.0, -1.0, -1.0, -1.0, 1.0], 2.0)\n HalfSpace([-1.0, 1.0, 1.0, 1.0, -1.0, -1.0], 2.0)\n HalfSpace([1.0, -1.0, 1.0, -1.0, 1.0, -1.0], 2.0)\n HalfSpace([1.0, 1.0, 1.0, -1.0, -1.0, -1.0], 2.0)"
     },
     "metadata": {},
     "execution_count": 2
    }
   ],
   "cell_type": "code",
   "source": [
    "h = LiftedHRepresentation{Float64}([\n",
    "    1  0  0  0  1  0  0\n",
    "    1  0  0  0  0  1  0\n",
    "    1  0  0  0  0  0  1\n",
    "    1  0  0  0 -1  0  0\n",
    "    1  0  0  0  0 -1  0\n",
    "    1  0  0  0  0  0 -1\n",
    "    1  1  0  0 -1  0  0\n",
    "    1  0  1  0  0 -1  0\n",
    "    1  0  0  1  0  0 -1\n",
    "    1 -1  0  0  1  0  0\n",
    "    1  0 -1  0  0  1  0\n",
    "    1  0  0 -1  0  0  1\n",
    "    2  1  1  1 -1 -1 -1\n",
    "    2 -1  1  1  1 -1 -1\n",
    "    2  1 -1  1 -1  1 -1\n",
    "    2  1  1 -1 -1 -1  1\n",
    "    2 -1 -1  1  1  1 -1\n",
    "    2  1 -1 -1 -1  1  1\n",
    "    2 -1  1 -1  1 -1  1\n",
    "    2 -1 -1 -1  1  1  1\n",
    "])\n",
    "p = polyhedron(convert(Polyhedra.Intersection{Float64,Vector{Float64},Int}, h))"
   ],
   "metadata": {},
   "execution_count": 2
  },
  {
   "cell_type": "markdown",
   "source": [
    "The projection is going to first compute the V-representation,\n",
    "and then project this V-representation. Only the V-representation\n",
    "of the projected polyhedron will be known."
   ],
   "metadata": {}
  },
  {
   "outputs": [
    {
     "output_type": "execute_result",
     "data": {
      "text/plain": "Polyhedron DefaultPolyhedron{Float64, Polyhedra.Intersection{Float64, Vector{Float64}, Int64}, Polyhedra.Hull{Float64, Vector{Float64}, Int64}}:\n96-element iterator of Vector{Float64}:\n [2.0, 1.0, 2.0]\n [0.0, 1.0, 2.0]\n [1.0, 2.0, 2.0]\n [-1.0, 2.0, 2.0]\n [2.0, 2.0, 1.0]\n [0.0, 2.0, 1.0]\n [1.0, 0.0, 2.0]\n [-1.0, 0.0, 2.0]\n [0.0, 1.0, 2.0]\n [-2.0, 1.0, 2.0]\n [0.0, 2.0, 1.0]\n [-2.0, 2.0, 1.0]\n [1.0, 2.0, 0.0]\n [-1.0, 2.0, 0.0]\n [2.0, 0.0, 1.0]\n [0.0, 0.0, 1.0]\n [2.0, 1.0, 0.0]\n [0.0, 1.0, 0.0]\n [1.0, 0.0, 0.0]\n [-1.0, 0.0, 0.0]\n  ⋮"
     },
     "metadata": {},
     "execution_count": 3
    }
   ],
   "cell_type": "code",
   "source": [
    "project(p, 1:3)"
   ],
   "metadata": {},
   "execution_count": 3
  },
  {
   "cell_type": "markdown",
   "source": [
    "## CDDLib\n",
    "\n",
    "With CDDLib, you the default projection when the eliminated variables is\n",
    "not only the last dimension is `BlockElimination`:\n",
    "For this method, the H-representation of the projected set is obtained:"
   ],
   "metadata": {}
  },
  {
   "outputs": [
    {
     "output_type": "execute_result",
     "data": {
      "text/plain": "Polyhedron CDDLib.Polyhedron{Float64}:\n20-element iterator of HalfSpace{Float64, Vector{Float64}}:\n HalfSpace([-0.0, -0.0, -0.0, -1.0, -0.0, -0.0], 1.0)\n HalfSpace([-0.0, -0.0, -0.0, -0.0, -1.0, -0.0], 1.0)\n HalfSpace([-0.0, -0.0, -0.0, -0.0, -0.0, -1.0], 1.0)\n HalfSpace([-0.0, -0.0, -0.0, 1.0, -0.0, -0.0], 1.0)\n HalfSpace([-0.0, -0.0, -0.0, -0.0, 1.0, -0.0], 1.0)\n HalfSpace([-0.0, -0.0, -0.0, -0.0, -0.0, 1.0], 1.0)\n HalfSpace([-1.0, -0.0, -0.0, 1.0, -0.0, -0.0], 1.0)\n HalfSpace([-0.0, -1.0, -0.0, -0.0, 1.0, -0.0], 1.0)\n HalfSpace([-0.0, -0.0, -1.0, -0.0, -0.0, 1.0], 1.0)\n HalfSpace([1.0, -0.0, -0.0, -1.0, -0.0, -0.0], 1.0)\n HalfSpace([-0.0, 1.0, -0.0, -0.0, -1.0, -0.0], 1.0)\n HalfSpace([-0.0, -0.0, 1.0, -0.0, -0.0, -1.0], 1.0)\n HalfSpace([-1.0, -1.0, -1.0, 1.0, 1.0, 1.0], 2.0)\n HalfSpace([1.0, -1.0, -1.0, -1.0, 1.0, 1.0], 2.0)\n HalfSpace([-1.0, 1.0, -1.0, 1.0, -1.0, 1.0], 2.0)\n HalfSpace([-1.0, -1.0, 1.0, 1.0, 1.0, -1.0], 2.0)\n HalfSpace([1.0, 1.0, -1.0, -1.0, -1.0, 1.0], 2.0)\n HalfSpace([-1.0, 1.0, 1.0, 1.0, -1.0, -1.0], 2.0)\n HalfSpace([1.0, -1.0, 1.0, -1.0, 1.0, -1.0], 2.0)\n HalfSpace([1.0, 1.0, 1.0, -1.0, -1.0, -1.0], 2.0)"
     },
     "metadata": {},
     "execution_count": 4
    }
   ],
   "cell_type": "code",
   "source": [
    "import CDDLib\n",
    "p = polyhedron(h, CDDLib.Library())"
   ],
   "metadata": {},
   "execution_count": 4
  },
  {
   "cell_type": "markdown",
   "source": [
    "`FourierMotzkin` can be used instead as follows.\n",
    "This method also obtains the H-representation of the projected set."
   ],
   "metadata": {}
  },
  {
   "outputs": [
    {
     "output_type": "execute_result",
     "data": {
      "text/plain": "Polyhedron CDDLib.Polyhedron{Float64}:\n4835-element iterator of HalfSpace{Float64, Vector{Float64}}:\n HalfSpace([-0.0, -0.0, -0.0], 1.0)\n HalfSpace([-0.0, -0.0, -1.0], 2.0)\n HalfSpace([-0.0, -0.0, 1.0], 2.0)\n HalfSpace([-0.0, -0.0, -0.0], 1.0)\n HalfSpace([-0.0, -0.0, -0.0], 1.0)\n HalfSpace([-0.0, -0.0, -0.0], 1.0)\n HalfSpace([-0.0, -0.0, -0.0], 1.0)\n HalfSpace([-0.0, -0.0, -0.0], 1.0)\n HalfSpace([-0.0, -0.0, -0.0], 1.0)\n HalfSpace([-0.0, -1.0, -0.0], 2.0)\n HalfSpace([-0.0, -1.0, -0.0], 3.0)\n HalfSpace([-0.0, -1.0, -0.0], 3.0)\n HalfSpace([-0.0, 1.0, -0.0], 2.0)\n HalfSpace([-0.0, -0.0, -0.0], 1.0)\n HalfSpace([-0.0, -0.0, -0.0], 1.0)\n HalfSpace([-0.0, -0.0, -0.0], 1.0)\n HalfSpace([-0.0, -0.0, -1.0], 3.0)\n HalfSpace([-0.0, -0.0, -1.0], 6.0)\n HalfSpace([-0.0, -0.0, -0.0], 1.0)\n HalfSpace([-0.0, -0.0, -1.0], 6.0)\n  ⋮"
     },
     "metadata": {},
     "execution_count": 5
    }
   ],
   "cell_type": "code",
   "source": [
    "project(p, 1:3, FourierMotzkin())"
   ],
   "metadata": {},
   "execution_count": 5
  },
  {
   "cell_type": "markdown",
   "source": [
    "To compute the projection by first computing the V-representation\n",
    "and then projecting it like it was done for the default library,\n",
    "use `ProjectGenerators`."
   ],
   "metadata": {}
  },
  {
   "outputs": [
    {
     "output_type": "execute_result",
     "data": {
      "text/plain": "Polyhedron CDDLib.Polyhedron{Float64}:\n96-element iterator of Vector{Float64}:\n [-1.0, -2.0, 0.0]\n [-1.0, -2.0, 2.0]\n [-1.0, 0.0, 0.0]\n [-1.0, 0.0, 2.0]\n [1.0, -2.0, 0.0]\n [1.0, -2.0, 2.0]\n [1.0, 0.0, 0.0]\n [1.0, 0.0, 2.0]\n [0.0, 1.0, 2.0]\n [0.0, 1.0, 0.0]\n [0.0, -1.0, 2.0]\n [0.0, -1.0, 0.0]\n [-2.0, 1.0, 2.0]\n [-2.0, 1.0, 0.0]\n [-2.0, -1.0, 2.0]\n [-2.0, -1.0, 0.0]\n [-1.0, 0.0, 0.0]\n [-1.0, 0.0, 2.0]\n [-1.0, 2.0, 0.0]\n [-1.0, 2.0, 2.0]\n  ⋮"
     },
     "metadata": {},
     "execution_count": 6
    }
   ],
   "cell_type": "code",
   "source": [
    "project(p, 1:3, ProjectGenerators())"
   ],
   "metadata": {},
   "execution_count": 6
  },
  {
   "cell_type": "markdown",
   "source": [
    "---\n",
    "\n",
    "*This notebook was generated using [Literate.jl](https://github.com/fredrikekre/Literate.jl).*"
   ],
   "metadata": {}
  }
 ],
 "nbformat_minor": 3,
 "metadata": {
  "language_info": {
   "file_extension": ".jl",
   "mimetype": "application/julia",
   "name": "julia",
   "version": "1.10.2"
  },
  "kernelspec": {
   "name": "julia-1.10",
   "display_name": "Julia 1.10.2",
   "language": "julia"
  }
 },
 "nbformat": 4
}
