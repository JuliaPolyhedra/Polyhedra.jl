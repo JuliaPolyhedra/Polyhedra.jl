{
 "cells": [
  {
   "cell_type": "markdown",
   "metadata": {},
   "source": [
    "This notebook shows how to plot and get the nodes of a convex polyhedral function.\n",
    "\n",
    "# One dimensional polyhedral function\n",
    "\n",
    "Consider the polyhedral function\n",
    "$$ f(x) = \\max(-4x - 1, 2x - 1, -x/4, x/2) $$\n",
    "in the interval $x \\in [-1, 1]$.\n",
    "\n",
    "As the function is convex (as it is the maximum of linear functions), its epigraph is convex. It is defined as the set of $x, y$ satisfying\n",
    "\\begin{align*}\n",
    "  -1 & \\le x\\\\\n",
    "  x & \\le 1\\\\\n",
    "  -4x - 1 & \\le y\\\\\n",
    "  2x - 1 & \\le y\\\\\n",
    "  -x/4 & \\le y\\\\\n",
    "  x/2 & \\le y\n",
    "\\end{align*}\n",
    "We can create this H-representation in Polyhedra as follows:"
   ]
  },
  {
   "cell_type": "code",
   "execution_count": 1,
   "metadata": {},
   "outputs": [
    {
     "data": {
      "text/plain": [
       "H-representation Polyhedra.Intersection{Float64,Array{Float64,1},Int64}:\n",
       "6-element iterator of HalfSpace{Float64,Array{Float64,1}}:\n",
       " HalfSpace([-1.0, 0.0], 1.0)\n",
       " HalfSpace([1.0, 0.0], 1.0)\n",
       " HalfSpace([-4.0, -1.0], 1.0)\n",
       " HalfSpace([2.0, -1.0], 1.0)\n",
       " HalfSpace([-0.25, -1.0], 0.0)\n",
       " HalfSpace([0.5, -1.0], 0.0)"
      ]
     },
     "execution_count": 1,
     "metadata": {},
     "output_type": "execute_result"
    }
   ],
   "source": [
    "using Polyhedra\n",
    "h = HalfSpace([-1, 0], 1) ∩ HalfSpace([1, 0], 1) ∩ HalfSpace([-4, -1], 1) ∩ HalfSpace([2, -1], 1) ∩\n",
    "    HalfSpace([-1/4, -1], 0) ∩ HalfSpace([1/2, -1], 0)"
   ]
  },
  {
   "cell_type": "markdown",
   "metadata": {},
   "source": [
    "We now transform it to a polyhedron using [CDDLib](https://github.com/JuliaPolyhedra/CDDLib.jl), the library that is chosen to compute the V-representation."
   ]
  },
  {
   "cell_type": "code",
   "execution_count": 2,
   "metadata": {},
   "outputs": [
    {
     "data": {
      "text/plain": [
       "Polyhedron CDDLib.Polyhedron{Float64}:\n",
       "6-element iterator of HalfSpace{Float64,Array{Float64,1}}:\n",
       " HalfSpace([-1.0, 0.0], 1.0)\n",
       " HalfSpace([1.0, 0.0], 1.0)\n",
       " HalfSpace([-4.0, -1.0], 1.0)\n",
       " HalfSpace([2.0, -1.0], 1.0)\n",
       " HalfSpace([-0.25, -1.0], 0.0)\n",
       " HalfSpace([0.5, -1.0], 0.0)"
      ]
     },
     "execution_count": 2,
     "metadata": {},
     "output_type": "execute_result"
    }
   ],
   "source": [
    "using CDDLib\n",
    "p = polyhedron(h, CDDLib.Library())"
   ]
  },
  {
   "cell_type": "markdown",
   "metadata": {},
   "source": [
    "## Getting the extreme points\n",
    "\n",
    "Note that creating the polyhedron does not trigger the computation of the V-representation by itself.\n",
    "This is done when the V-representation is queried, e.g. by `vrep`.\n",
    "We can see that 5 nodes of the polyhedral function with the ray $(0, 1)$ which is expected for an epigraph."
   ]
  },
  {
   "cell_type": "code",
   "execution_count": 3,
   "metadata": {},
   "outputs": [
    {
     "data": {
      "text/plain": [
       "V-representation CDDGeneratorMatrix{Float64,Float64}:\n",
       "5-element iterator of Array{Float64,1}:\n",
       " [1.0, 1.0]\n",
       " [0.0, 0.0]\n",
       " [0.666667, 0.333333]\n",
       " [-0.266667, 0.0666667]\n",
       " [-1.0, 3.0],\n",
       "1-element iterator of Ray{Float64,Array{Float64,1}}:\n",
       " Ray([-1.77636e-16, 1.0])"
      ]
     },
     "execution_count": 3,
     "metadata": {},
     "output_type": "execute_result"
    }
   ],
   "source": [
    "vrep(p)"
   ]
  },
  {
   "cell_type": "markdown",
   "metadata": {},
   "source": [
    "We see now that the V-representation is known by the polyhedron. Now both the H- and V-representation are available."
   ]
  },
  {
   "cell_type": "code",
   "execution_count": 4,
   "metadata": {},
   "outputs": [
    {
     "data": {
      "text/plain": [
       "Polyhedron CDDLib.Polyhedron{Float64}:\n",
       "6-element iterator of HalfSpace{Float64,Array{Float64,1}}:\n",
       " HalfSpace([-1.0, 0.0], 1.0)\n",
       " HalfSpace([1.0, 0.0], 1.0)\n",
       " HalfSpace([-4.0, -1.0], 1.0)\n",
       " HalfSpace([2.0, -1.0], 1.0)\n",
       " HalfSpace([-0.25, -1.0], 0.0)\n",
       " HalfSpace([0.5, -1.0], 0.0):\n",
       "5-element iterator of Array{Float64,1}:\n",
       " [1.0, 1.0]\n",
       " [0.0, 0.0]\n",
       " [0.666667, 0.333333]\n",
       " [-0.266667, 0.0666667]\n",
       " [-1.0, 3.0],\n",
       "1-element iterator of Ray{Float64,Array{Float64,1}}:\n",
       " Ray([-1.77636e-16, 1.0])"
      ]
     },
     "execution_count": 4,
     "metadata": {},
     "output_type": "execute_result"
    }
   ],
   "source": [
    "p"
   ]
  },
  {
   "cell_type": "markdown",
   "metadata": {},
   "source": [
    "## Plotting the epigraph\n",
    "\n",
    "We can plot the epigraph as follows. Note that rays are not supported for 2D plotting, the polyhedron needs to be bounded so we add the halfspace $y \\le 4$."
   ]
  },
  {
   "cell_type": "code",
   "execution_count": 5,
   "metadata": {},
   "outputs": [
    {
     "data": {
      "image/svg+xml": [
       "<?xml version=\"1.0\" encoding=\"utf-8\"?>\n",
       "<svg xmlns=\"http://www.w3.org/2000/svg\" xmlns:xlink=\"http://www.w3.org/1999/xlink\" width=\"600\" height=\"400\" viewBox=\"0 0 2400 1600\">\n",
       "<defs>\n",
       "  <clipPath id=\"clip3700\">\n",
       "    <rect x=\"0\" y=\"0\" width=\"2400\" height=\"1600\"/>\n",
       "  </clipPath>\n",
       "</defs>\n",
       "<polygon clip-path=\"url(#clip3700)\" points=\"\n",
       "0,1600 2400,1600 2400,0 0,0 \n",
       "  \" fill=\"#ffffff\" fill-rule=\"evenodd\" fill-opacity=\"1\"/>\n",
       "<defs>\n",
       "  <clipPath id=\"clip3701\">\n",
       "    <rect x=\"480\" y=\"0\" width=\"1681\" height=\"1600\"/>\n",
       "  </clipPath>\n",
       "</defs>\n",
       "<polygon clip-path=\"url(#clip3700)\" points=\"\n",
       "121.251,1503.47 2321.26,1503.47 2321.26,47.2441 121.251,47.2441 \n",
       "  \" fill=\"#ffffff\" fill-rule=\"evenodd\" fill-opacity=\"1\"/>\n",
       "<defs>\n",
       "  <clipPath id=\"clip3702\">\n",
       "    <rect x=\"121\" y=\"47\" width=\"2201\" height=\"1457\"/>\n",
       "  </clipPath>\n",
       "</defs>\n",
       "<polyline clip-path=\"url(#clip3702)\" style=\"stroke:#000000; stroke-width:2; stroke-opacity:0.1; fill:none\" points=\"\n",
       "  183.515,1503.47 183.515,47.2441 \n",
       "  \"/>\n",
       "<polyline clip-path=\"url(#clip3702)\" style=\"stroke:#000000; stroke-width:2; stroke-opacity:0.1; fill:none\" points=\"\n",
       "  702.385,1503.47 702.385,47.2441 \n",
       "  \"/>\n",
       "<polyline clip-path=\"url(#clip3702)\" style=\"stroke:#000000; stroke-width:2; stroke-opacity:0.1; fill:none\" points=\"\n",
       "  1221.26,1503.47 1221.26,47.2441 \n",
       "  \"/>\n",
       "<polyline clip-path=\"url(#clip3702)\" style=\"stroke:#000000; stroke-width:2; stroke-opacity:0.1; fill:none\" points=\"\n",
       "  1740.13,1503.47 1740.13,47.2441 \n",
       "  \"/>\n",
       "<polyline clip-path=\"url(#clip3702)\" style=\"stroke:#000000; stroke-width:2; stroke-opacity:0.1; fill:none\" points=\"\n",
       "  2259,1503.47 2259,47.2441 \n",
       "  \"/>\n",
       "<polyline clip-path=\"url(#clip3702)\" style=\"stroke:#000000; stroke-width:2; stroke-opacity:0.1; fill:none\" points=\"\n",
       "  121.251,1462.26 2321.26,1462.26 \n",
       "  \"/>\n",
       "<polyline clip-path=\"url(#clip3702)\" style=\"stroke:#000000; stroke-width:2; stroke-opacity:0.1; fill:none\" points=\"\n",
       "  121.251,1118.81 2321.26,1118.81 \n",
       "  \"/>\n",
       "<polyline clip-path=\"url(#clip3702)\" style=\"stroke:#000000; stroke-width:2; stroke-opacity:0.1; fill:none\" points=\"\n",
       "  121.251,775.359 2321.26,775.359 \n",
       "  \"/>\n",
       "<polyline clip-path=\"url(#clip3702)\" style=\"stroke:#000000; stroke-width:2; stroke-opacity:0.1; fill:none\" points=\"\n",
       "  121.251,431.909 2321.26,431.909 \n",
       "  \"/>\n",
       "<polyline clip-path=\"url(#clip3702)\" style=\"stroke:#000000; stroke-width:2; stroke-opacity:0.1; fill:none\" points=\"\n",
       "  121.251,88.4582 2321.26,88.4582 \n",
       "  \"/>\n",
       "<polyline clip-path=\"url(#clip3700)\" style=\"stroke:#000000; stroke-width:4; stroke-opacity:1; fill:none\" points=\"\n",
       "  121.251,1503.47 2321.26,1503.47 \n",
       "  \"/>\n",
       "<polyline clip-path=\"url(#clip3700)\" style=\"stroke:#000000; stroke-width:4; stroke-opacity:1; fill:none\" points=\"\n",
       "  121.251,1503.47 121.251,47.2441 \n",
       "  \"/>\n",
       "<polyline clip-path=\"url(#clip3700)\" style=\"stroke:#000000; stroke-width:4; stroke-opacity:1; fill:none\" points=\"\n",
       "  183.515,1503.47 183.515,1481.63 \n",
       "  \"/>\n",
       "<polyline clip-path=\"url(#clip3700)\" style=\"stroke:#000000; stroke-width:4; stroke-opacity:1; fill:none\" points=\"\n",
       "  702.385,1503.47 702.385,1481.63 \n",
       "  \"/>\n",
       "<polyline clip-path=\"url(#clip3700)\" style=\"stroke:#000000; stroke-width:4; stroke-opacity:1; fill:none\" points=\"\n",
       "  1221.26,1503.47 1221.26,1481.63 \n",
       "  \"/>\n",
       "<polyline clip-path=\"url(#clip3700)\" style=\"stroke:#000000; stroke-width:4; stroke-opacity:1; fill:none\" points=\"\n",
       "  1740.13,1503.47 1740.13,1481.63 \n",
       "  \"/>\n",
       "<polyline clip-path=\"url(#clip3700)\" style=\"stroke:#000000; stroke-width:4; stroke-opacity:1; fill:none\" points=\"\n",
       "  2259,1503.47 2259,1481.63 \n",
       "  \"/>\n",
       "<polyline clip-path=\"url(#clip3700)\" style=\"stroke:#000000; stroke-width:4; stroke-opacity:1; fill:none\" points=\"\n",
       "  121.251,1462.26 154.251,1462.26 \n",
       "  \"/>\n",
       "<polyline clip-path=\"url(#clip3700)\" style=\"stroke:#000000; stroke-width:4; stroke-opacity:1; fill:none\" points=\"\n",
       "  121.251,1118.81 154.251,1118.81 \n",
       "  \"/>\n",
       "<polyline clip-path=\"url(#clip3700)\" style=\"stroke:#000000; stroke-width:4; stroke-opacity:1; fill:none\" points=\"\n",
       "  121.251,775.359 154.251,775.359 \n",
       "  \"/>\n",
       "<polyline clip-path=\"url(#clip3700)\" style=\"stroke:#000000; stroke-width:4; stroke-opacity:1; fill:none\" points=\"\n",
       "  121.251,431.909 154.251,431.909 \n",
       "  \"/>\n",
       "<polyline clip-path=\"url(#clip3700)\" style=\"stroke:#000000; stroke-width:4; stroke-opacity:1; fill:none\" points=\"\n",
       "  121.251,88.4582 154.251,88.4582 \n",
       "  \"/>\n",
       "<g clip-path=\"url(#clip3700)\">\n",
       "<text style=\"fill:#000000; fill-opacity:1; font-family:Arial,Helvetica Neue,Helvetica,sans-serif; font-size:48px; text-anchor:middle;\" transform=\"rotate(0, 183.515, 1557.47)\" x=\"183.515\" y=\"1557.47\">-1.0</text>\n",
       "</g>\n",
       "<g clip-path=\"url(#clip3700)\">\n",
       "<text style=\"fill:#000000; fill-opacity:1; font-family:Arial,Helvetica Neue,Helvetica,sans-serif; font-size:48px; text-anchor:middle;\" transform=\"rotate(0, 702.385, 1557.47)\" x=\"702.385\" y=\"1557.47\">-0.5</text>\n",
       "</g>\n",
       "<g clip-path=\"url(#clip3700)\">\n",
       "<text style=\"fill:#000000; fill-opacity:1; font-family:Arial,Helvetica Neue,Helvetica,sans-serif; font-size:48px; text-anchor:middle;\" transform=\"rotate(0, 1221.26, 1557.47)\" x=\"1221.26\" y=\"1557.47\">0.0</text>\n",
       "</g>\n",
       "<g clip-path=\"url(#clip3700)\">\n",
       "<text style=\"fill:#000000; fill-opacity:1; font-family:Arial,Helvetica Neue,Helvetica,sans-serif; font-size:48px; text-anchor:middle;\" transform=\"rotate(0, 1740.13, 1557.47)\" x=\"1740.13\" y=\"1557.47\">0.5</text>\n",
       "</g>\n",
       "<g clip-path=\"url(#clip3700)\">\n",
       "<text style=\"fill:#000000; fill-opacity:1; font-family:Arial,Helvetica Neue,Helvetica,sans-serif; font-size:48px; text-anchor:middle;\" transform=\"rotate(0, 2259, 1557.47)\" x=\"2259\" y=\"1557.47\">1.0</text>\n",
       "</g>\n",
       "<g clip-path=\"url(#clip3700)\">\n",
       "<text style=\"fill:#000000; fill-opacity:1; font-family:Arial,Helvetica Neue,Helvetica,sans-serif; font-size:48px; text-anchor:end;\" transform=\"rotate(0, 97.2505, 1479.76)\" x=\"97.2505\" y=\"1479.76\">0</text>\n",
       "</g>\n",
       "<g clip-path=\"url(#clip3700)\">\n",
       "<text style=\"fill:#000000; fill-opacity:1; font-family:Arial,Helvetica Neue,Helvetica,sans-serif; font-size:48px; text-anchor:end;\" transform=\"rotate(0, 97.2505, 1136.31)\" x=\"97.2505\" y=\"1136.31\">1</text>\n",
       "</g>\n",
       "<g clip-path=\"url(#clip3700)\">\n",
       "<text style=\"fill:#000000; fill-opacity:1; font-family:Arial,Helvetica Neue,Helvetica,sans-serif; font-size:48px; text-anchor:end;\" transform=\"rotate(0, 97.2505, 792.859)\" x=\"97.2505\" y=\"792.859\">2</text>\n",
       "</g>\n",
       "<g clip-path=\"url(#clip3700)\">\n",
       "<text style=\"fill:#000000; fill-opacity:1; font-family:Arial,Helvetica Neue,Helvetica,sans-serif; font-size:48px; text-anchor:end;\" transform=\"rotate(0, 97.2505, 449.409)\" x=\"97.2505\" y=\"449.409\">3</text>\n",
       "</g>\n",
       "<g clip-path=\"url(#clip3700)\">\n",
       "<text style=\"fill:#000000; fill-opacity:1; font-family:Arial,Helvetica Neue,Helvetica,sans-serif; font-size:48px; text-anchor:end;\" transform=\"rotate(0, 97.2505, 105.958)\" x=\"97.2505\" y=\"105.958\">4</text>\n",
       "</g>\n",
       "<polygon clip-path=\"url(#clip3702)\" points=\"\n",
       "183.515,88.4582 2259,88.4582 2259,1118.81 1913.08,1347.78 1221.26,1462.26 944.524,1439.36 183.515,431.909 183.515,88.4582 183.515,88.4582 \n",
       "  \" fill=\"#009af9\" fill-rule=\"evenodd\" fill-opacity=\"1\"/>\n",
       "<polyline clip-path=\"url(#clip3702)\" style=\"stroke:#000000; stroke-width:4; stroke-opacity:1; fill:none\" points=\"\n",
       "  183.515,88.4582 2259,88.4582 2259,1118.81 1913.08,1347.78 1221.26,1462.26 944.524,1439.36 183.515,431.909 183.515,88.4582 \n",
       "  \"/>\n",
       "<circle clip-path=\"url(#clip3702)\" style=\"fill:#000000; stroke:none; fill-opacity:1\" cx=\"2259\" cy=\"1118.81\" r=\"18\"/>\n",
       "<circle clip-path=\"url(#clip3702)\" style=\"fill:#e26f46; stroke:none; fill-opacity:1\" cx=\"2259\" cy=\"1118.81\" r=\"14\"/>\n",
       "<circle clip-path=\"url(#clip3702)\" style=\"fill:#000000; stroke:none; fill-opacity:1\" cx=\"1221.26\" cy=\"1462.26\" r=\"18\"/>\n",
       "<circle clip-path=\"url(#clip3702)\" style=\"fill:#e26f46; stroke:none; fill-opacity:1\" cx=\"1221.26\" cy=\"1462.26\" r=\"14\"/>\n",
       "<circle clip-path=\"url(#clip3702)\" style=\"fill:#000000; stroke:none; fill-opacity:1\" cx=\"1913.08\" cy=\"1347.78\" r=\"18\"/>\n",
       "<circle clip-path=\"url(#clip3702)\" style=\"fill:#e26f46; stroke:none; fill-opacity:1\" cx=\"1913.08\" cy=\"1347.78\" r=\"14\"/>\n",
       "<circle clip-path=\"url(#clip3702)\" style=\"fill:#000000; stroke:none; fill-opacity:1\" cx=\"944.524\" cy=\"1439.36\" r=\"18\"/>\n",
       "<circle clip-path=\"url(#clip3702)\" style=\"fill:#e26f46; stroke:none; fill-opacity:1\" cx=\"944.524\" cy=\"1439.36\" r=\"14\"/>\n",
       "<circle clip-path=\"url(#clip3702)\" style=\"fill:#000000; stroke:none; fill-opacity:1\" cx=\"183.515\" cy=\"431.909\" r=\"18\"/>\n",
       "<circle clip-path=\"url(#clip3702)\" style=\"fill:#e26f46; stroke:none; fill-opacity:1\" cx=\"183.515\" cy=\"431.909\" r=\"14\"/>\n",
       "</svg>\n"
      ]
     },
     "execution_count": 5,
     "metadata": {},
     "output_type": "execute_result"
    }
   ],
   "source": [
    "using Plots\n",
    "plot(p ∩ HalfSpace([0, 1], 4))\n",
    "scatter!([x[1] for x in points(p)], [x[2] for x in points(p)])"
   ]
  },
  {
   "cell_type": "markdown",
   "metadata": {},
   "source": [
    "## Using the polyhedral function in an optimization problem\n",
    "\n",
    "[JuMP](https://github.com/jump-dev/JuMP.jl) variables can be constrained to be in the epigraph.\n",
    "Note that if the optimization model simply involves minimizing or maximizing a linear objective function over the polyhedron, the problem can simply the solved by iterating over the V-representation.\n",
    "One can use `Polyhedra.linear_objective_solver` to get `VRepOptimizer` when the V-representation is computed.\n",
    "This optimizer does exactly what we just described."
   ]
  },
  {
   "cell_type": "code",
   "execution_count": 6,
   "metadata": {},
   "outputs": [],
   "source": [
    "using JuMP\n",
    "model = Model(Polyhedra.linear_objective_solver(p))\n",
    "@variable(model, x)\n",
    "@variable(model, y)\n",
    "@constraint(model, [x, y] in p)\n",
    "@objective(model, Min, x + y)\n",
    "optimize!(model)"
   ]
  },
  {
   "cell_type": "markdown",
   "metadata": {},
   "source": [
    "The optimal solution of this problem is one of the extreme points of `p`:"
   ]
  },
  {
   "cell_type": "code",
   "execution_count": 7,
   "metadata": {},
   "outputs": [
    {
     "data": {
      "text/plain": [
       "OPTIMAL::TerminationStatusCode = 1"
      ]
     },
     "execution_count": 7,
     "metadata": {},
     "output_type": "execute_result"
    }
   ],
   "source": [
    "termination_status(model)"
   ]
  },
  {
   "cell_type": "code",
   "execution_count": 8,
   "metadata": {},
   "outputs": [
    {
     "data": {
      "text/plain": [
       "(-0.26666666666666666, 0.06666666666666665)"
      ]
     },
     "execution_count": 8,
     "metadata": {},
     "output_type": "execute_result"
    }
   ],
   "source": [
    "value(x), value(y)"
   ]
  },
  {
   "cell_type": "code",
   "execution_count": 9,
   "metadata": {},
   "outputs": [
    {
     "data": {
      "image/svg+xml": [
       "<?xml version=\"1.0\" encoding=\"utf-8\"?>\n",
       "<svg xmlns=\"http://www.w3.org/2000/svg\" xmlns:xlink=\"http://www.w3.org/1999/xlink\" width=\"600\" height=\"400\" viewBox=\"0 0 2400 1600\">\n",
       "<defs>\n",
       "  <clipPath id=\"clip4100\">\n",
       "    <rect x=\"0\" y=\"0\" width=\"2400\" height=\"1600\"/>\n",
       "  </clipPath>\n",
       "</defs>\n",
       "<polygon clip-path=\"url(#clip4100)\" points=\"\n",
       "0,1600 2400,1600 2400,0 0,0 \n",
       "  \" fill=\"#ffffff\" fill-rule=\"evenodd\" fill-opacity=\"1\"/>\n",
       "<defs>\n",
       "  <clipPath id=\"clip4101\">\n",
       "    <rect x=\"480\" y=\"0\" width=\"1681\" height=\"1600\"/>\n",
       "  </clipPath>\n",
       "</defs>\n",
       "<polygon clip-path=\"url(#clip4100)\" points=\"\n",
       "121.251,1503.47 2321.26,1503.47 2321.26,47.2441 121.251,47.2441 \n",
       "  \" fill=\"#ffffff\" fill-rule=\"evenodd\" fill-opacity=\"1\"/>\n",
       "<defs>\n",
       "  <clipPath id=\"clip4102\">\n",
       "    <rect x=\"121\" y=\"47\" width=\"2201\" height=\"1457\"/>\n",
       "  </clipPath>\n",
       "</defs>\n",
       "<polyline clip-path=\"url(#clip4102)\" style=\"stroke:#000000; stroke-width:2; stroke-opacity:0.1; fill:none\" points=\"\n",
       "  372.195,1503.47 372.195,47.2441 \n",
       "  \"/>\n",
       "<polyline clip-path=\"url(#clip4102)\" style=\"stroke:#000000; stroke-width:2; stroke-opacity:0.1; fill:none\" points=\"\n",
       "  843.895,1503.47 843.895,47.2441 \n",
       "  \"/>\n",
       "<polyline clip-path=\"url(#clip4102)\" style=\"stroke:#000000; stroke-width:2; stroke-opacity:0.1; fill:none\" points=\"\n",
       "  1315.6,1503.47 1315.6,47.2441 \n",
       "  \"/>\n",
       "<polyline clip-path=\"url(#clip4102)\" style=\"stroke:#000000; stroke-width:2; stroke-opacity:0.1; fill:none\" points=\"\n",
       "  1787.3,1503.47 1787.3,47.2441 \n",
       "  \"/>\n",
       "<polyline clip-path=\"url(#clip4102)\" style=\"stroke:#000000; stroke-width:2; stroke-opacity:0.1; fill:none\" points=\"\n",
       "  2259,1503.47 2259,47.2441 \n",
       "  \"/>\n",
       "<polyline clip-path=\"url(#clip4102)\" style=\"stroke:#000000; stroke-width:2; stroke-opacity:0.1; fill:none\" points=\"\n",
       "  121.251,1462.26 2321.26,1462.26 \n",
       "  \"/>\n",
       "<polyline clip-path=\"url(#clip4102)\" style=\"stroke:#000000; stroke-width:2; stroke-opacity:0.1; fill:none\" points=\"\n",
       "  121.251,1118.81 2321.26,1118.81 \n",
       "  \"/>\n",
       "<polyline clip-path=\"url(#clip4102)\" style=\"stroke:#000000; stroke-width:2; stroke-opacity:0.1; fill:none\" points=\"\n",
       "  121.251,775.359 2321.26,775.359 \n",
       "  \"/>\n",
       "<polyline clip-path=\"url(#clip4102)\" style=\"stroke:#000000; stroke-width:2; stroke-opacity:0.1; fill:none\" points=\"\n",
       "  121.251,431.909 2321.26,431.909 \n",
       "  \"/>\n",
       "<polyline clip-path=\"url(#clip4102)\" style=\"stroke:#000000; stroke-width:2; stroke-opacity:0.1; fill:none\" points=\"\n",
       "  121.251,88.4582 2321.26,88.4582 \n",
       "  \"/>\n",
       "<polyline clip-path=\"url(#clip4100)\" style=\"stroke:#000000; stroke-width:4; stroke-opacity:1; fill:none\" points=\"\n",
       "  121.251,1503.47 2321.26,1503.47 \n",
       "  \"/>\n",
       "<polyline clip-path=\"url(#clip4100)\" style=\"stroke:#000000; stroke-width:4; stroke-opacity:1; fill:none\" points=\"\n",
       "  121.251,1503.47 121.251,47.2441 \n",
       "  \"/>\n",
       "<polyline clip-path=\"url(#clip4100)\" style=\"stroke:#000000; stroke-width:4; stroke-opacity:1; fill:none\" points=\"\n",
       "  372.195,1503.47 372.195,1481.63 \n",
       "  \"/>\n",
       "<polyline clip-path=\"url(#clip4100)\" style=\"stroke:#000000; stroke-width:4; stroke-opacity:1; fill:none\" points=\"\n",
       "  843.895,1503.47 843.895,1481.63 \n",
       "  \"/>\n",
       "<polyline clip-path=\"url(#clip4100)\" style=\"stroke:#000000; stroke-width:4; stroke-opacity:1; fill:none\" points=\"\n",
       "  1315.6,1503.47 1315.6,1481.63 \n",
       "  \"/>\n",
       "<polyline clip-path=\"url(#clip4100)\" style=\"stroke:#000000; stroke-width:4; stroke-opacity:1; fill:none\" points=\"\n",
       "  1787.3,1503.47 1787.3,1481.63 \n",
       "  \"/>\n",
       "<polyline clip-path=\"url(#clip4100)\" style=\"stroke:#000000; stroke-width:4; stroke-opacity:1; fill:none\" points=\"\n",
       "  2259,1503.47 2259,1481.63 \n",
       "  \"/>\n",
       "<polyline clip-path=\"url(#clip4100)\" style=\"stroke:#000000; stroke-width:4; stroke-opacity:1; fill:none\" points=\"\n",
       "  121.251,1462.26 154.251,1462.26 \n",
       "  \"/>\n",
       "<polyline clip-path=\"url(#clip4100)\" style=\"stroke:#000000; stroke-width:4; stroke-opacity:1; fill:none\" points=\"\n",
       "  121.251,1118.81 154.251,1118.81 \n",
       "  \"/>\n",
       "<polyline clip-path=\"url(#clip4100)\" style=\"stroke:#000000; stroke-width:4; stroke-opacity:1; fill:none\" points=\"\n",
       "  121.251,775.359 154.251,775.359 \n",
       "  \"/>\n",
       "<polyline clip-path=\"url(#clip4100)\" style=\"stroke:#000000; stroke-width:4; stroke-opacity:1; fill:none\" points=\"\n",
       "  121.251,431.909 154.251,431.909 \n",
       "  \"/>\n",
       "<polyline clip-path=\"url(#clip4100)\" style=\"stroke:#000000; stroke-width:4; stroke-opacity:1; fill:none\" points=\"\n",
       "  121.251,88.4582 154.251,88.4582 \n",
       "  \"/>\n",
       "<g clip-path=\"url(#clip4100)\">\n",
       "<text style=\"fill:#000000; fill-opacity:1; font-family:Arial,Helvetica Neue,Helvetica,sans-serif; font-size:48px; text-anchor:middle;\" transform=\"rotate(0, 372.195, 1557.47)\" x=\"372.195\" y=\"1557.47\">-1.0</text>\n",
       "</g>\n",
       "<g clip-path=\"url(#clip4100)\">\n",
       "<text style=\"fill:#000000; fill-opacity:1; font-family:Arial,Helvetica Neue,Helvetica,sans-serif; font-size:48px; text-anchor:middle;\" transform=\"rotate(0, 843.895, 1557.47)\" x=\"843.895\" y=\"1557.47\">-0.5</text>\n",
       "</g>\n",
       "<g clip-path=\"url(#clip4100)\">\n",
       "<text style=\"fill:#000000; fill-opacity:1; font-family:Arial,Helvetica Neue,Helvetica,sans-serif; font-size:48px; text-anchor:middle;\" transform=\"rotate(0, 1315.6, 1557.47)\" x=\"1315.6\" y=\"1557.47\">0.0</text>\n",
       "</g>\n",
       "<g clip-path=\"url(#clip4100)\">\n",
       "<text style=\"fill:#000000; fill-opacity:1; font-family:Arial,Helvetica Neue,Helvetica,sans-serif; font-size:48px; text-anchor:middle;\" transform=\"rotate(0, 1787.3, 1557.47)\" x=\"1787.3\" y=\"1557.47\">0.5</text>\n",
       "</g>\n",
       "<g clip-path=\"url(#clip4100)\">\n",
       "<text style=\"fill:#000000; fill-opacity:1; font-family:Arial,Helvetica Neue,Helvetica,sans-serif; font-size:48px; text-anchor:middle;\" transform=\"rotate(0, 2259, 1557.47)\" x=\"2259\" y=\"1557.47\">1.0</text>\n",
       "</g>\n",
       "<g clip-path=\"url(#clip4100)\">\n",
       "<text style=\"fill:#000000; fill-opacity:1; font-family:Arial,Helvetica Neue,Helvetica,sans-serif; font-size:48px; text-anchor:end;\" transform=\"rotate(0, 97.2505, 1479.76)\" x=\"97.2505\" y=\"1479.76\">0</text>\n",
       "</g>\n",
       "<g clip-path=\"url(#clip4100)\">\n",
       "<text style=\"fill:#000000; fill-opacity:1; font-family:Arial,Helvetica Neue,Helvetica,sans-serif; font-size:48px; text-anchor:end;\" transform=\"rotate(0, 97.2505, 1136.31)\" x=\"97.2505\" y=\"1136.31\">1</text>\n",
       "</g>\n",
       "<g clip-path=\"url(#clip4100)\">\n",
       "<text style=\"fill:#000000; fill-opacity:1; font-family:Arial,Helvetica Neue,Helvetica,sans-serif; font-size:48px; text-anchor:end;\" transform=\"rotate(0, 97.2505, 792.859)\" x=\"97.2505\" y=\"792.859\">2</text>\n",
       "</g>\n",
       "<g clip-path=\"url(#clip4100)\">\n",
       "<text style=\"fill:#000000; fill-opacity:1; font-family:Arial,Helvetica Neue,Helvetica,sans-serif; font-size:48px; text-anchor:end;\" transform=\"rotate(0, 97.2505, 449.409)\" x=\"97.2505\" y=\"449.409\">3</text>\n",
       "</g>\n",
       "<g clip-path=\"url(#clip4100)\">\n",
       "<text style=\"fill:#000000; fill-opacity:1; font-family:Arial,Helvetica Neue,Helvetica,sans-serif; font-size:48px; text-anchor:end;\" transform=\"rotate(0, 97.2505, 105.958)\" x=\"97.2505\" y=\"105.958\">4</text>\n",
       "</g>\n",
       "<polygon clip-path=\"url(#clip4102)\" points=\"\n",
       "372.195,88.4582 2259,88.4582 2259,1118.81 1944.53,1347.78 1315.6,1462.26 1064.02,1439.36 372.195,431.909 372.195,88.4582 372.195,88.4582 \n",
       "  \" fill=\"#009af9\" fill-rule=\"evenodd\" fill-opacity=\"1\"/>\n",
       "<polyline clip-path=\"url(#clip4102)\" style=\"stroke:#000000; stroke-width:4; stroke-opacity:1; fill:none\" points=\"\n",
       "  372.195,88.4582 2259,88.4582 2259,1118.81 1944.53,1347.78 1315.6,1462.26 1064.02,1439.36 372.195,431.909 372.195,88.4582 \n",
       "  \"/>\n",
       "<circle clip-path=\"url(#clip4102)\" style=\"fill:#000000; stroke:none; fill-opacity:1\" cx=\"2259\" cy=\"1118.81\" r=\"18\"/>\n",
       "<circle clip-path=\"url(#clip4102)\" style=\"fill:#e26f46; stroke:none; fill-opacity:1\" cx=\"2259\" cy=\"1118.81\" r=\"14\"/>\n",
       "<circle clip-path=\"url(#clip4102)\" style=\"fill:#000000; stroke:none; fill-opacity:1\" cx=\"1315.6\" cy=\"1462.26\" r=\"18\"/>\n",
       "<circle clip-path=\"url(#clip4102)\" style=\"fill:#e26f46; stroke:none; fill-opacity:1\" cx=\"1315.6\" cy=\"1462.26\" r=\"14\"/>\n",
       "<circle clip-path=\"url(#clip4102)\" style=\"fill:#000000; stroke:none; fill-opacity:1\" cx=\"1944.53\" cy=\"1347.78\" r=\"18\"/>\n",
       "<circle clip-path=\"url(#clip4102)\" style=\"fill:#e26f46; stroke:none; fill-opacity:1\" cx=\"1944.53\" cy=\"1347.78\" r=\"14\"/>\n",
       "<circle clip-path=\"url(#clip4102)\" style=\"fill:#000000; stroke:none; fill-opacity:1\" cx=\"1064.02\" cy=\"1439.36\" r=\"18\"/>\n",
       "<circle clip-path=\"url(#clip4102)\" style=\"fill:#e26f46; stroke:none; fill-opacity:1\" cx=\"1064.02\" cy=\"1439.36\" r=\"14\"/>\n",
       "<circle clip-path=\"url(#clip4102)\" style=\"fill:#000000; stroke:none; fill-opacity:1\" cx=\"372.195\" cy=\"431.909\" r=\"18\"/>\n",
       "<circle clip-path=\"url(#clip4102)\" style=\"fill:#e26f46; stroke:none; fill-opacity:1\" cx=\"372.195\" cy=\"431.909\" r=\"14\"/>\n",
       "<polyline clip-path=\"url(#clip4102)\" style=\"stroke:#3da44d; stroke-width:8; stroke-opacity:1; fill:none\" points=\"\n",
       "  1126.92,1462.26 183.515,1118.81 \n",
       "  \"/>\n",
       "<polygon clip-path=\"url(#clip4102)\" style=\"fill:#000000; fill-opacity:1\" points=\"\n",
       "  1064.02,1403.36 1055.56,1427.7 1029.79,1428.24 1050.34,1443.83 1042.85,1468.49 1064.02,1453.76 1085.19,1468.49 1077.7,1443.83 1098.26,1428.24 1072.48,1427.7 \n",
       "  1064.02,1403.36 \n",
       "  \"/>\n",
       "<polygon clip-path=\"url(#clip4102)\" style=\"fill:#c271d2; fill-opacity:1\" points=\"\n",
       "  1064.02,1407.36 1056.5,1429 1033.59,1429.48 1051.86,1443.33 1045.21,1465.25 1064.02,1452.16 1082.84,1465.25 1076.18,1443.33 1094.45,1429.48 1071.54,1429 \n",
       "  1064.02,1407.36 \n",
       "  \"/>\n",
       "</svg>\n"
      ]
     },
     "execution_count": 9,
     "metadata": {},
     "output_type": "execute_result"
    }
   ],
   "source": [
    "plot!([-0.2, -1.2], [0.0, 1.0], linewidth=2) # Objective function\n",
    "scatter!([value(x)], [value(y)], markershape=:star5, markersize=8) # Optimal solution"
   ]
  },
  {
   "cell_type": "code",
   "execution_count": 10,
   "metadata": {},
   "outputs": [],
   "source": [
    "@objective(model, Max, x + y)\n",
    "optimize!(model)"
   ]
  },
  {
   "cell_type": "markdown",
   "metadata": {},
   "source": [
    "As we can see, maximizing $x + y$ is an unbounded problem, the infeasibility certificate is given by the extreme ray $(0, 1)$."
   ]
  },
  {
   "cell_type": "code",
   "execution_count": 11,
   "metadata": {},
   "outputs": [
    {
     "data": {
      "text/plain": [
       "DUAL_INFEASIBLE::TerminationStatusCode = 3"
      ]
     },
     "execution_count": 11,
     "metadata": {},
     "output_type": "execute_result"
    }
   ],
   "source": [
    "termination_status(model)"
   ]
  },
  {
   "cell_type": "code",
   "execution_count": 12,
   "metadata": {},
   "outputs": [
    {
     "data": {
      "text/plain": [
       "(-1.7763568394002506e-16, 1.0)"
      ]
     },
     "execution_count": 12,
     "metadata": {},
     "output_type": "execute_result"
    }
   ],
   "source": [
    "value(x), value(y)"
   ]
  },
  {
   "cell_type": "markdown",
   "metadata": {},
   "source": [
    "The epigraph can also be used in a more complex optimization problem involving other variables and constraints. Here `Polyhedra.linear_objective_solver` should not be used because the feasible set of the new model is not exactly `p` so the V-representation will have to be recomputed which is less efficient than solving the problem using a linear programming solver such as GLPK."
   ]
  },
  {
   "cell_type": "code",
   "execution_count": 13,
   "metadata": {},
   "outputs": [],
   "source": [
    "using JuMP\n",
    "import GLPK\n",
    "model = Model(GLPK.Optimizer)\n",
    "@variable(model, x <= -2)\n",
    "@variable(model, y)\n",
    "@variable(model, 0 <= u <= 3)\n",
    "@constraint(model, [2x + u, y] in p)\n",
    "@objective(model, Min, u + y)\n",
    "optimize!(model)"
   ]
  },
  {
   "cell_type": "code",
   "execution_count": 14,
   "metadata": {},
   "outputs": [
    {
     "data": {
      "text/plain": [
       "OPTIMAL::TerminationStatusCode = 1"
      ]
     },
     "execution_count": 14,
     "metadata": {},
     "output_type": "execute_result"
    }
   ],
   "source": [
    "termination_status(model)"
   ]
  },
  {
   "cell_type": "code",
   "execution_count": 15,
   "metadata": {},
   "outputs": [
    {
     "data": {
      "text/plain": [
       "(-2.0, 3.0, 3.0)"
      ]
     },
     "execution_count": 15,
     "metadata": {},
     "output_type": "execute_result"
    }
   ],
   "source": [
    "value(x), value(y), value(u)"
   ]
  },
  {
   "cell_type": "markdown",
   "metadata": {},
   "source": [
    "# Two dimensional polyhedral function\n",
    "\n",
    "Consider the polyhedral function\n",
    "$$ f(x) = \\max(-4x - 2y - 1, 2x - y - 1, -x/4 + y/2, x/2 + y) $$\n",
    "in the interval $(x, y) \\in [-1, 1]^2$.\n",
    "\n",
    "As the function is convex (as it is the maximum of linear functions), its epigraph is convex. It is defined as the set of $x, y, z$ satisfying\n",
    "\\begin{align*}\n",
    "  -1 & \\le x\\\\\n",
    "  x & \\le 1\\\\\n",
    "  -1 & \\le y\\\\\n",
    "  y & \\le 1\\\\\n",
    "  -4x - 2y - 1 & \\le z\\\\\n",
    "  2x - y - 1 & \\le z\\\\\n",
    "  -x/4 + y/2 & \\le z\\\\\n",
    "  x/2 + y & \\le z\n",
    "\\end{align*}\n",
    "We can create this H-representation in Polyhedra as follows:"
   ]
  },
  {
   "cell_type": "code",
   "execution_count": 16,
   "metadata": {},
   "outputs": [
    {
     "data": {
      "text/plain": [
       "H-representation Polyhedra.Intersection{Float64,Array{Float64,1},Int64}:\n",
       "8-element iterator of HalfSpace{Float64,Array{Float64,1}}:\n",
       " HalfSpace([-1.0, 0.0, 0.0], 1.0)\n",
       " HalfSpace([1.0, 0.0, 0.0], 1.0)\n",
       " HalfSpace([0.0, -1.0, 0.0], 1.0)\n",
       " HalfSpace([0.0, 1.0, 0.0], 1.0)\n",
       " HalfSpace([-4.0, -2.0, -1.0], 1.0)\n",
       " HalfSpace([2.0, -1.0, -1.0], 1.0)\n",
       " HalfSpace([-0.25, 0.5, -1.0], 0.0)\n",
       " HalfSpace([0.5, 1.0, -1.0], 0.0)"
      ]
     },
     "execution_count": 16,
     "metadata": {},
     "output_type": "execute_result"
    }
   ],
   "source": [
    "using Polyhedra\n",
    "h = HalfSpace([-1, 0, 0], 1) ∩ HalfSpace([1, 0, 0], 1) ∩\n",
    "    HalfSpace([0, -1, 0], 1) ∩ HalfSpace([0, 1, 0], 1) ∩\n",
    "    HalfSpace([-4, -2, -1], 1) ∩ HalfSpace([2, -1, -1], 1) ∩\n",
    "    HalfSpace([-1/4, 1/2, -1], 0) ∩ HalfSpace([1/2, 1, -1], 0)"
   ]
  },
  {
   "cell_type": "markdown",
   "metadata": {},
   "source": [
    "We create the polyhedron the same way as for 1-dimensional polyhedral functions."
   ]
  },
  {
   "cell_type": "code",
   "execution_count": 17,
   "metadata": {},
   "outputs": [
    {
     "data": {
      "text/plain": [
       "Polyhedron CDDLib.Polyhedron{Float64}:\n",
       "8-element iterator of HalfSpace{Float64,Array{Float64,1}}:\n",
       " HalfSpace([-1.0, 0.0, 0.0], 1.0)\n",
       " HalfSpace([1.0, 0.0, 0.0], 1.0)\n",
       " HalfSpace([0.0, -1.0, 0.0], 1.0)\n",
       " HalfSpace([0.0, 1.0, 0.0], 1.0)\n",
       " HalfSpace([-4.0, -2.0, -1.0], 1.0)\n",
       " HalfSpace([2.0, -1.0, -1.0], 1.0)\n",
       " HalfSpace([-0.25, 0.5, -1.0], 0.0)\n",
       " HalfSpace([0.5, 1.0, -1.0], 0.0)"
      ]
     },
     "execution_count": 17,
     "metadata": {},
     "output_type": "execute_result"
    }
   ],
   "source": [
    "using CDDLib\n",
    "p = polyhedron(h, CDDLib.Library())"
   ]
  },
  {
   "cell_type": "markdown",
   "metadata": {},
   "source": [
    "We obtain the 10 nodes as follows along with the $(0, 0, 1)$ ray that is expected as the polyhedron is an epigraph."
   ]
  },
  {
   "cell_type": "code",
   "execution_count": 18,
   "metadata": {},
   "outputs": [
    {
     "data": {
      "text/plain": [
       "V-representation CDDGeneratorMatrix{Float64,Float64}:\n",
       "10-element iterator of Array{Float64,1}:\n",
       " [0.222222, -0.333333, -0.222222]\n",
       " [1.0, 0.25, 0.75]\n",
       " [1.0, 1.0, 1.5]\n",
       " [-0.666667, 1.0, 0.666667]\n",
       " [1.0, -1.0, 2.0]\n",
       " [0.0888889, -0.533333, -0.288889]\n",
       " [0.166667, -1.0, 0.333333]\n",
       " [-0.933333, 1.0, 0.733333]\n",
       " [-1.0, 1.0, 1.0]\n",
       " [-1.0, -1.0, 5.0],\n",
       "1-element iterator of Ray{Float64,Array{Float64,1}}:\n",
       " Ray([-6.66134e-16, -7.40149e-17, 1.0])"
      ]
     },
     "execution_count": 18,
     "metadata": {},
     "output_type": "execute_result"
    }
   ],
   "source": [
    "vrep(p)"
   ]
  },
  {
   "cell_type": "markdown",
   "metadata": {},
   "source": [
    "As `p` is a 3-dimensional polyhedron, we use [MeshCat](https://github.com/rdeits/MeshCat.jl) or [Makie](https://github.com/JuliaPlots/Makie.jl).\n",
    "Note that plotting unbounded polyhedra is supported by Polyhedra so no need to add, e.g. the hyperplane $z \\le 6$.\n",
    "The top of the shape will have no face as it is unbounded in this direction."
   ]
  },
  {
   "cell_type": "code",
   "execution_count": null,
   "metadata": {},
   "outputs": [],
   "source": [
    "using MeshCat\n",
    "m = Polyhedra.Mesh(p)\n",
    "vis = Visualizer()\n",
    "setobject!(vis, m)\n",
    "IJuliaCell(vis)"
   ]
  },
  {
   "cell_type": "code",
   "execution_count": null,
   "metadata": {},
   "outputs": [],
   "source": [
    "using Makie\n",
    "Makie.mesh(m, color=:blue)"
   ]
  },
  {
   "cell_type": "code",
   "execution_count": null,
   "metadata": {},
   "outputs": [],
   "source": [
    "using Makie\n",
    "Makie.wireframe(m)"
   ]
  },
  {
   "cell_type": "code",
   "execution_count": null,
   "metadata": {},
   "outputs": [],
   "source": []
  }
 ],
 "metadata": {
  "kernelspec": {
   "display_name": "Julia 1.0.3",
   "language": "julia",
   "name": "julia-1.0"
  },
  "language_info": {
   "file_extension": ".jl",
   "mimetype": "application/julia",
   "name": "julia",
   "version": "1.0.3"
  }
 },
 "nbformat": 4,
 "nbformat_minor": 2
}
